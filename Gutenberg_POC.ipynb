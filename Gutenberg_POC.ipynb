{
 "cells": [
  {
   "cell_type": "markdown",
   "metadata": {},
   "source": [
    "# Gutenberg Projekt"
   ]
  },
  {
   "cell_type": "code",
   "execution_count": 98,
   "metadata": {},
   "outputs": [],
   "source": [
    "import streamlit as st\n",
    "import pandas as pd\n",
    "import requests\n",
    "\n",
    "from bs4 import BeautifulSoup\n",
    "from bs4.dammit import EncodingDetector"
   ]
  },
  {
   "cell_type": "code",
   "execution_count": 99,
   "metadata": {},
   "outputs": [],
   "source": [
    "BASE_URL = \"https://www.projekt-gutenberg.org/\" # Ausgangswebsite"
   ]
  },
  {
   "cell_type": "code",
   "execution_count": 100,
   "metadata": {},
   "outputs": [
    {
     "data": {
      "text/plain": [
       "<function streamlit.runtime.legacy_caching.caching.cache.<locals>.wrapper(f: ~F) -> ~F>"
      ]
     },
     "execution_count": 100,
     "metadata": {},
     "output_type": "execute_result"
    }
   ],
   "source": [
    "st.cache(suppress_st_warning=True) # Unterdrückt Warn- und Fehlermeldungen in der Streamlit App"
   ]
  },
  {
   "cell_type": "code",
   "execution_count": 1,
   "metadata": {},
   "outputs": [],
   "source": [
    "# Funktion zum Scrapen des Autors\n",
    "\n",
    "def scrape_autor(author):\n",
    "    url = f\"{BASE_URL}autoren/namen/{author.lower()}.html\"\n",
    "    print(f\"Scrape Autor {author} {url}\")\n",
    "    res = requests.get(url)\n",
    "# Autor nicht gefunden\n",
    "    if res.status_code != 200:\n",
    "        print(f\"Autor {author} wurde nicht gefunden!\")\n",
    "        return None\n",
    "    try:\n",
    "        print(f\"Autor {author} wurde gefunden!\")\n",
    "        author_site = BeautifulSoup(res.content, \"lxml\", from_encoding=EncodingDetector.find_declared_encoding(res.content, is_html=True)) # Soll nicht xml für das encoding verwenden\n",
    "    except Exception:\n",
    "        print(\"Error während dem Decoden\")\n",
    "        return None\n",
    "\n",
    "# Dictionary mit allen Informationen über den Autor\n",
    "    infos = {\"data\"      : None,    # Texte\n",
    "             \"books\"     : _find_books(author_site),     # Bücher\n",
    "             \"info\"      : _find_info(author_site),     # Biografie\n",
    "             \"image_url\" : _find_image(author_site)     # Bild\n",
    "            }\n",
    "    df_all = pd.DataFrame()\n",
    "\n",
    "# Über jeden Autoren iterieren und dessen Werke mitsamt URL printen\n",
    "    for title, url in infos[\"books\"]:\n",
    "        st.markdwon(f\"[{title}]({url})\")\n",
    "        print(f\"Scrape Buch '{title}' [{url}]\")\n",
    "\n",
    "        df_temp = _scrape_book(url)\n",
    "        df_all = pd.concat([df_all],[df_temp], ignore_index=True) \n",
    "    \n",
    "    df_all[\"Autor\"] = author.upper()\n",
    "    infos[data] = df_all\n",
    "\n",
    "    print(f\"Gefundene Sätze: {df_all.shape}\")\n",
    "\n",
    "    return infos"
   ]
  },
  {
   "cell_type": "code",
   "execution_count": 102,
   "metadata": {},
   "outputs": [],
   "source": [
    "def _find_books(books):\n",
    "    tag = books.find(\"div\",{\"class\": \"archived\"}) # Abfrage unter den jeweiligen HTML-Divisions\n",
    "    if tag == None:\n",
    "        return []\n",
    "    book_url = []\n",
    "    for l in tag.find_all(\"li\"):                  # Abfrage der Listenelemente\n",
    "        tag = l.find(\"a\", href = True)\n",
    "        book_title = tag.string                   # Abfrage der genauen Buchtitel\n",
    "        \n",
    "        url = f\"{BASE_URL}/{tag['href'][6:]}\"     # Abfrage der genauen URL \n",
    "        url = url[:url.rfind(\"/\")]   \n",
    "\n",
    "        book_url.append((book_title, url))        # Kombination von Butitel und URL in Tuples\n",
    "\n",
    "    return book_url\n",
    "    "
   ]
  },
  {
   "cell_type": "code",
   "execution_count": 103,
   "metadata": {},
   "outputs": [],
   "source": [
    "def _find_info(author_site):\n",
    "    try:\n",
    "        return author_site.find(\"p\").text # Erster Absatz der Biografie scrapen\n",
    "    except:\n",
    "        return None\n"
   ]
  },
  {
   "cell_type": "code",
   "execution_count": 111,
   "metadata": {},
   "outputs": [],
   "source": [
    "def _find_image(author_site):\n",
    "    try:\n",
    "        return f\"{BASE_URL}{author_site.find('img', src = True, title = True)['src'][3:]}\" # Link zum Bild scrapen\n",
    "    except:\n",
    "        return None"
   ]
  },
  {
   "cell_type": "code",
   "execution_count": 144,
   "metadata": {},
   "outputs": [],
   "source": [
    "def scrape_book(url):\n",
    "    res = requests.get(url)\n",
    "    book_site = BeautifulSoup(res.content, \"lxml\", from_encoding=EncodingDetector.find_declared_encoding(res.content, is_html=True))\n",
    "    subchapters = book_site.find_all(\"li\")\n",
    "    subchapters_links = []\n",
    "    for sub in subchapters:\n",
    "        link = sub.find(\"a\", href = True)\n",
    "        subchapters_links.append(url + \"/\" + link[\"href\"])          # Alle Unterkapitel werden gescraped zu einem gegebenen book_link\n",
    "    \n",
    "    df = pd.DataFrame(columns = ['Satz'])\n",
    "    \n",
    "    progressbar = st.progress(0)                                    # Fortschrittsbalken in Streamlit\n",
    "    \n",
    "    for index, temp_url in enumerate(subchapters_links):\n",
    "        progressbar.progress((index + 1 ) / len(subchapters_links))\n",
    "\n",
    "        res = requests.get(temp_url)\n",
    "        \n",
    "        subchapters_site = BeautifulSoup(res.content, \"lxml\", from_encoding=EncodingDetector.find_declared_encoding(res.content, is_html=True))\n",
    "        data = _find_text(subchapters_site)\n",
    "\n",
    "        for satz in data.split(\".\"):                                # Scrapen der einzelnen Sätze\n",
    "            df.loc[len(df)] = satz\n",
    "    progressbar. empty()\n",
    "\n",
    "    df[\"Satz\"] = df[\"Satz\"].map(_correction)                        # Filterfunktion der Sätze\n",
    "\n",
    "    return df"
   ]
  },
  {
   "cell_type": "code",
   "execution_count": 145,
   "metadata": {},
   "outputs": [],
   "source": [
    "def _correction(string):\n",
    "    if len(string) < 4:                     # Filtert alles was nach einem Punkt kommt und unter 4 Zeichen hat. (Fehleranfälligkeit vermeiden, Machine Learning optimieren)\n",
    "        return None\n",
    "    else:\n",
    "        return string"
   ]
  },
  {
   "cell_type": "code",
   "execution_count": 146,
   "metadata": {},
   "outputs": [],
   "source": [
    "def _find_text(subchapters_site):\n",
    "    text = \"\"\n",
    "    \n",
    "    for paragraph in books.find_all(\"p\"):\n",
    "        if paragraph.string:\n",
    "            text = text + paragraph.text\n",
    "\n",
    "    return text"
   ]
  }
 ],
 "metadata": {
  "kernelspec": {
   "display_name": "base",
   "language": "python",
   "name": "python3"
  },
  "language_info": {
   "codemirror_mode": {
    "name": "ipython",
    "version": 3
   },
   "file_extension": ".py",
   "mimetype": "text/x-python",
   "name": "python",
   "nbconvert_exporter": "python",
   "pygments_lexer": "ipython3",
   "version": "3.11.5"
  }
 },
 "nbformat": 4,
 "nbformat_minor": 2
}
