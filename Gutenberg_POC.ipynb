{
 "cells": [
  {
   "cell_type": "markdown",
   "metadata": {},
   "source": [
    "# Gutenberg Projekt"
   ]
  },
  {
   "cell_type": "code",
   "execution_count": 3,
   "metadata": {},
   "outputs": [],
   "source": [
    "import streamlit as st\n",
    "import pandas as pd\n",
    "import requests\n",
    "\n",
    "from bs4 import BeautifulSoup\n",
    "from bs4.dammit import EncodingDetector"
   ]
  },
  {
   "cell_type": "code",
   "execution_count": 4,
   "metadata": {},
   "outputs": [],
   "source": [
    "BASE_URL = \"https://www.projekt-gutenberg.org\" # Ausgangswebsite"
   ]
  },
  {
   "cell_type": "markdown",
   "metadata": {},
   "source": [
    "## Fehlerselektion innerhalb der Texte"
   ]
  },
  {
   "cell_type": "code",
   "execution_count": 5,
   "metadata": {},
   "outputs": [],
   "source": [
    "def _correction(string):\n",
    "    if len(string) < 4:                         # Filtert alles was nach einem Punkt kommt und unter 4 Zeichen hat. (Fehleranfälligkeit vermeiden, Machine Learning optimieren)\n",
    "        return None\n",
    "    else:\n",
    "        return string"
   ]
  },
  {
   "cell_type": "markdown",
   "metadata": {},
   "source": [
    "## Scraping des Portraits"
   ]
  },
  {
   "cell_type": "code",
   "execution_count": 6,
   "metadata": {},
   "outputs": [],
   "source": [
    "def _find_image(author_site):                   # Link zum Bild scrapen\n",
    "    try:\n",
    "        return f\"{BASE_URL}/autoren/{author_site.find('img', src = True, title = True)['src'][3:]}\" \n",
    "    except:\n",
    "        return None"
   ]
  },
  {
   "cell_type": "markdown",
   "metadata": {},
   "source": [
    "## Scraping der Biografie des Autors"
   ]
  },
  {
   "cell_type": "code",
   "execution_count": 7,
   "metadata": {},
   "outputs": [],
   "source": [
    "def _find_info(author_site):\n",
    "    try:\n",
    "        return author_site.find(\"p\").text       # Erster Absatz der Biografie scrapen\n",
    "    except:\n",
    "        return None"
   ]
  },
  {
   "cell_type": "markdown",
   "metadata": {},
   "source": [
    "## Scraping des Buchtexts"
   ]
  },
  {
   "cell_type": "code",
   "execution_count": 8,
   "metadata": {},
   "outputs": [],
   "source": [
    "def _find_text(books):\n",
    "    text = \"\"\n",
    "    \n",
    "    for paragraph in books.find_all(\"p\"):\n",
    "        if paragraph.string:\n",
    "            text = text + paragraph.text\n",
    "\n",
    "    return text"
   ]
  },
  {
   "cell_type": "markdown",
   "metadata": {},
   "source": [
    "## Scraping der Autoreninformationen"
   ]
  },
  {
   "cell_type": "code",
   "execution_count": 9,
   "metadata": {},
   "outputs": [
    {
     "ename": "ModuleNotFoundError",
     "evalue": "No module named 'scraping'",
     "output_type": "error",
     "traceback": [
      "\u001b[1;31m---------------------------------------------------------------------------\u001b[0m",
      "\u001b[1;31mModuleNotFoundError\u001b[0m                       Traceback (most recent call last)",
      "Cell \u001b[1;32mIn[9], line 2\u001b[0m\n\u001b[0;32m      1\u001b[0m \u001b[38;5;66;03m# Unterdrückt Warn- und Fehlermeldungen in der Streamlit App\u001b[39;00m\n\u001b[1;32m----> 2\u001b[0m \u001b[38;5;28;01mfrom\u001b[39;00m \u001b[38;5;21;01mscraping\u001b[39;00m \u001b[38;5;28;01mimport\u001b[39;00m _find_books, _scrape_book\n\u001b[0;32m      5\u001b[0m \u001b[38;5;129m@st\u001b[39m\u001b[38;5;241m.\u001b[39mcache(suppress_st_warning\u001b[38;5;241m=\u001b[39m\u001b[38;5;28;01mTrue\u001b[39;00m)\n\u001b[0;32m      6\u001b[0m \u001b[38;5;66;03m# Funktion zum Scrapen des Autors\u001b[39;00m\n\u001b[0;32m      7\u001b[0m \u001b[38;5;28;01mdef\u001b[39;00m \u001b[38;5;21mscrape_autor\u001b[39m(author):                       \n\u001b[0;32m      8\u001b[0m     url \u001b[38;5;241m=\u001b[39m \u001b[38;5;124mf\u001b[39m\u001b[38;5;124m\"\u001b[39m\u001b[38;5;132;01m{\u001b[39;00mBASE_URL\u001b[38;5;132;01m}\u001b[39;00m\u001b[38;5;124m/autoren/namen/\u001b[39m\u001b[38;5;132;01m{\u001b[39;00mauthor\u001b[38;5;241m.\u001b[39mlower()\u001b[38;5;132;01m}\u001b[39;00m\u001b[38;5;124m.html\u001b[39m\u001b[38;5;124m\"\u001b[39m\n",
      "\u001b[1;31mModuleNotFoundError\u001b[0m: No module named 'scraping'"
     ]
    }
   ],
   "source": [
    "# Unterdrückt Warn- und Fehlermeldungen in der Streamlit App\n",
    "from scraping import _find_books, _scrape_book\n",
    "\n",
    "\n",
    "@st.cache(suppress_st_warning=True)\n",
    "# Funktion zum Scrapen des Autors\n",
    "def scrape_autor(author):                       \n",
    "    url = f\"{BASE_URL}/autoren/namen/{author.lower()}.html\"\n",
    "    print(f\"Scrape Autor {author} [{url}]\")\n",
    "\n",
    "    res = requests.get(url)\n",
    "\n",
    "# Autor nicht gefunden\n",
    "    if res.status_code != 200:\n",
    "        print(f\"Autor {author} wurde nicht gefunden!\")\n",
    "        return None\n",
    "    try:\n",
    "        print(f\"Autor {author} wurde gefunden!\")\n",
    "\n",
    "# Soll nicht xml für das encoding verwenden\n",
    "        \n",
    "        author_site = BeautifulSoup(res.content, \"lxml\", from_encoding=EncodingDetector.find_declared_encoding(res.content, is_html=True))\n",
    "    except Exception:\n",
    "        print(\"Error während dem Decoden\")\n",
    "        return None\n",
    "\n",
    "# Dictionary mit allen Informationen über den Autor\n",
    "    infos = {\"data\"      : None,    # Texte\n",
    "             \"books\"     : _find_books(author_site),     # Bücher\n",
    "             \"info\"      : _find_info(author_site),     # Biografie\n",
    "             \"image_url\" : _find_image(author_site)     # Bild\n",
    "            }\n",
    "    df_all = pd.DataFrame()\n",
    "\n",
    "# Über jeden Autoren iterieren und dessen Werke mitsamt URL printen\n",
    "    for title, url in infos[\"books\"]:\n",
    "\n",
    "        st.markdown(f\"[{title}]({url})\")\n",
    "        print(f\"Scrape Buch '{title}' [{url}]\")\n",
    "\n",
    "# Buch scrapen\n",
    "        df_temp = _scrape_book(url)\n",
    "\n",
    "# Dataframes kombinieren\n",
    "        df_all = pd.concat([df_all, df_temp], ignore_index=True) \n",
    "    \n",
    "    df_all[\"Autor\"] = author.upper()\n",
    "    infos[\"data\"] = df_all\n",
    "\n",
    "    print(f\"Gefundene Sätze: {df_all.shape}\")\n",
    "\n",
    "    return infos"
   ]
  },
  {
   "cell_type": "markdown",
   "metadata": {},
   "source": [
    "## Scraping aller Werke des Autors"
   ]
  },
  {
   "cell_type": "code",
   "execution_count": null,
   "metadata": {},
   "outputs": [],
   "source": [
    "def _find_books(books):\n",
    "    tag = books.find(\"div\",{\"class\": \"archived\"}) # Abfrage unter den jeweiligen HTML-Divisions\n",
    "    if tag == None:\n",
    "        return []\n",
    "    book_url = []\n",
    "    for l in tag.find_all(\"li\"):                  # Abfrage der Listenelemente\n",
    "        tag = l.find(\"a\", href = True)\n",
    "        book_title = tag.string                   # Abfrage der genauen Buchtitel\n",
    "        \n",
    "        url = f\"{BASE_URL}/{tag['href'][6:]}\"     # Abfrage der genauen URL \n",
    "        url = url[:url.rfind(\"/\")]   \n",
    "\n",
    "        book_url.append((book_title, url))        # Kombination von Butitel und URL in Tuples\n",
    "\n",
    "    return book_url\n",
    "    "
   ]
  },
  {
   "cell_type": "markdown",
   "metadata": {},
   "source": [
    "## Scraping des Buches"
   ]
  },
  {
   "cell_type": "code",
   "execution_count": null,
   "metadata": {},
   "outputs": [],
   "source": [
    "def _scrape_book(url):\n",
    "    res = requests.get(url)\n",
    "    book_site = BeautifulSoup(res.content, \"lxml\", from_encoding=EncodingDetector.find_declared_encoding(res.content, is_html=True))\n",
    "    subchapters = book_site.find_all(\"li\")\n",
    "    subchapters_links = []\n",
    "    for sub in subchapters:\n",
    "        link = sub.find(\"a\", href = True)\n",
    "        subchapters_links.append(url + \"/\" + link[\"href\"])          # Alle Unterkapitel werden gescraped zu einem gegebenen book_link\n",
    "    \n",
    "    df = pd.DataFrame(columns = ['Satz'])\n",
    "    \n",
    "    progressbar = st.progress(0)                                    # Fortschrittsbalken in Streamlit\n",
    "    \n",
    "    for index, temp_url in enumerate(subchapters_links):\n",
    "        progressbar.progress((index + 1 ) / len(subchapters_links))\n",
    "\n",
    "        res = requests.get(temp_url)\n",
    "        \n",
    "        books = BeautifulSoup(res.content, \"lxml\", from_encoding=EncodingDetector.find_declared_encoding(res.content, is_html=True))\n",
    "        data = _find_text(books)\n",
    "\n",
    "        for satz in data.split(\".\"):                                # Scrapen der einzelnen Sätze\n",
    "            df.loc[len(df)] = satz\n",
    "    progressbar. empty()\n",
    "\n",
    "    df[\"Satz\"] = df[\"Satz\"].map(_correction)                        # Filterfunktion der Sätze\n",
    "\n",
    "    return df"
   ]
  }
 ],
 "metadata": {
  "kernelspec": {
   "display_name": "base",
   "language": "python",
   "name": "python3"
  },
  "language_info": {
   "codemirror_mode": {
    "name": "ipython",
    "version": 3
   },
   "file_extension": ".py",
   "mimetype": "text/x-python",
   "name": "python",
   "nbconvert_exporter": "python",
   "pygments_lexer": "ipython3",
   "version": "3.11.5"
  }
 },
 "nbformat": 4,
 "nbformat_minor": 2
}
