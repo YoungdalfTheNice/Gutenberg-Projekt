{
 "cells": [
  {
   "cell_type": "markdown",
   "metadata": {},
   "source": [
    "# Machine Learning\n",
    "\n",
    "Das Modell soll vorhersagen, wer am wahrscheinlichsten der Autor bestimmter Sätze sein soll. Dafür werden vom Nutzer zunächst relevante Autoren ausgewählt und anschließend eine Eingabe des zu prüfenden Satzes oder Ausdrucks gemacht. Für das Modell wird ein Naive-Bayes Algorithmus auf einen Count Vectorizer verwendet."
   ]
  },
  {
   "cell_type": "code",
   "execution_count": 1,
   "metadata": {},
   "outputs": [],
   "source": [
    "import streamlit as st\n",
    "import pandas as pd\n",
    "\n",
    "from sklearn.feature_extraction.text import CountVectorizer\n",
    "from sklearn.model_selection import train_test_split\n",
    "from sklearn.naive_bayes import MultinomialNB"
   ]
  },
  {
   "cell_type": "code",
   "execution_count": null,
   "metadata": {},
   "outputs": [],
   "source": [
    "def analyze(data):\n",
    "    df = pd.DataFrame()\n",
    "\n",
    "    for i in data.values():\n",
    "        df = pd.concat([df,i[\"data\"]], ignore_indes = True)                                                             # Daten in Dataframe überführen\n",
    "\n",
    "    df = df.dropna()                                                                                                    # Missings entfernen\n",
    "\n",
    "    vect = CountVectorizer()                                        \n",
    "\n",
    "    wordsCountArray = vect.fit_transform(df[\"Satz\"])                                                                    # Nach Wörtern vektorisieren\n",
    "    \n",
    "\n",
    "\n",
    "    X_train, X_test, y_train, y_test = train_test_split(wordsCountArray, df[\"Autor\"], test_size=0.33, random_state=42)  # Trainingsdaten und Testdaten zuweisen\n",
    "\n",
    "    model = MultinomialNB()                                                                                             # Verwendeter Naive Bayes Algorithmus\n",
    "\n",
    "    model.fit(X_train, y_train)                                                                                         # Modell wird auf Daten trainiert\n",
    "    \n",
    "    autoren = data.keys()                                                                                               # Autoren werden in Variable übergeben\n",
    "\n",
    "    s = f\"Modell trainiert für Autoren: \\n\\n\"                                                                           # Strings werden zeilenweise mitgeliefert zur Information über die Modelleigenschaften\n",
    "\n",
    "    for i in autoren:                                                                                                   # Und via For-Schleife gelistet\n",
    "        s += f\"\\t{i}\\n\"\n",
    "\n",
    "    s += f\"Mit {X_train.shape[0]} Sätzen.\\n\\n\"                                                                          # Anzahl der Sätze für Trainingsdaten\n",
    "    s += f\"Modellgenauigekeit: {model.score(X_test, y_test)*100: .2f}%\"                                                 # Modellgenauigkeit wird ausgegeben\n",
    "\n",
    "    st.markdown(s)\n",
    "\n",
    "    return model, vect"
   ]
  }
 ],
 "metadata": {
  "kernelspec": {
   "display_name": "base",
   "language": "python",
   "name": "python3"
  },
  "language_info": {
   "codemirror_mode": {
    "name": "ipython",
    "version": 3
   },
   "file_extension": ".py",
   "mimetype": "text/x-python",
   "name": "python",
   "nbconvert_exporter": "python",
   "pygments_lexer": "ipython3",
   "version": "3.11.5"
  }
 },
 "nbformat": 4,
 "nbformat_minor": 2
}
